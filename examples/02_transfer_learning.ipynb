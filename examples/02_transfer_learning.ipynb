{
 "cells": [
  {
   "cell_type": "markdown",
   "metadata": {
    "Collapsed": "false"
   },
   "source": [
    "# Transfer learning\n",
    "\n",
    "Trasfer learning is a machine learning method through which the experienced obtained solving a determined problem is used to speed up the solution of a similar (yet different) problem. \n",
    "\n",
    "In the case of reinforcement learning, we start by training an agent to solve our optimization problem under the action of a Hamiltonian. Then, we can exploit the knowledge of such agent to solve the same problem under a perturbation of the original Hamiltonian. In order to do so, instead of restarting the learning process from scratch, we will take the trained agent from the first problem as starting point to solve the second problem.\n",
    "\n",
    "`DQNTrainer` provides two ways of doing transfer learning. The most straightfoward method is by, simply, training the agents to solve a problem and, then, change the already existing environment and some of the agent hyper-parameters to solve the second problem. The second approach consists on instancing a new `DQNTrainer` for the second problem providing it with an `agent.model` list containing the pre-trained newtorks. This is pretty handy once we have some pre-trained agents from other problems that we want to try. "
   ]
  },
  {
   "cell_type": "code",
   "execution_count": 1,
   "metadata": {
    "Collapsed": "false"
   },
   "outputs": [],
   "source": [
    "from bounce.hamiltonian import XXHamiltonian\n",
    "from bounce.budget_profiles import FlatProfile\n",
    "from bounce.training import DQNTrainer\n",
    "from bounce.utils import arrange_shape, best_so_far, load_model, plot_trainings\n",
    "\n",
    "import numpy as np\n",
    "import pickle\n",
    "from tqdm.auto import tqdm\n",
    "from pathlib import Path\n",
    "from copy import deepcopy\n",
    "from collections import deque\n",
    "from matplotlib import pyplot as plt\n",
    "from nbdev.showdoc import show_doc\n",
    "\n",
    "%matplotlib inline\n",
    "%load_ext autoreload\n",
    "%autoreload 2"
   ]
  },
  {
   "cell_type": "markdown",
   "metadata": {
    "Collapsed": "false"
   },
   "source": [
    "## Transfer learning from the beginning\n",
    "\n",
    "When we do not have any pre-trained models to use for our task at hand, but we want to see how an agent trained in a similar and, maybe, easier problem may be of use for our task, we need to first train these agents. \n",
    "\n",
    "For this task, we only need one `DQNTrainer` whose paramters will be changed between tasks. "
   ]
  },
  {
   "cell_type": "markdown",
   "metadata": {
    "Collapsed": "false"
   },
   "source": [
    "### Problem definition\n",
    "\n",
    "Here, we will define our two problems under the same budget restrictions: \n",
    "* The initial Hamiltonian `H1`. \n",
    "* The second Hamiltonian `H2`, similar to `H1`. \n"
   ]
  },
  {
   "cell_type": "code",
   "execution_count": 2,
   "metadata": {
    "Collapsed": "false"
   },
   "outputs": [],
   "source": [
    "N = 6 \n",
    "\n",
    "# Hamiltonian 1\n",
    "B1, J1 = [1]*N, [i%3 for i in range(N)]\n",
    "H1 = XXHamiltonian(N, np.array(B1), np.array(J1))\n",
    "\n",
    "# Hamiltonian 2\n",
    "B2, J2 = [1]*N, [0, 2, 0, 0]+[2]*2\n",
    "H2 = XXHamiltonian(N, np.array(B2), np.array(J2))\n",
    "\n",
    "#Computational budget\n",
    "max_limit = 300\n",
    "profile = FlatProfile(max_limit)"
   ]
  },
  {
   "cell_type": "markdown",
   "metadata": {
    "Collapsed": "false"
   },
   "source": [
    "Let us see the two different systems"
   ]
  },
  {
   "cell_type": "code",
   "execution_count": 3,
   "metadata": {
    "Collapsed": "false"
   },
   "outputs": [
    {
     "data": {
      "image/png": "[encoded data removed]",
      "text/plain": [
       "<Figure size 576x432 with 1 Axes>"
      ]
     },
     "metadata": {},
     "output_type": "display_data"
    }
   ],
   "source": [
    "H1.draw_system()"
   ]
  },
  {
   "cell_type": "code",
   "execution_count": 4,
   "metadata": {
    "Collapsed": "false"
   },
   "outputs": [
    {
     "data": {
      "image/png": "[encoded data removed]",
      "text/plain": [
       "<Figure size 576x432 with 1 Axes>"
      ]
     },
     "metadata": {},
     "output_type": "display_data"
    }
   ],
   "source": [
    "H2.draw_system()"
   ]
  },
  {
   "cell_type": "markdown",
   "metadata": {
    "Collapsed": "false"
   },
   "source": [
    "If both Hamiltonians are within the same phase, the transfer learning is completely trivial, provided that the solution of both problems is the same. "
   ]
  },
  {
   "cell_type": "markdown",
   "metadata": {
    "Collapsed": "false"
   },
   "source": [
    "### Agent learning parameters"
   ]
  },
  {
   "cell_type": "code",
   "execution_count": 29,
   "metadata": {
    "Collapsed": "false"
   },
   "outputs": [],
   "source": [
    "# Agent parameters\n",
    "learning_rate = 2e-3\n",
    "batch_size = 200\n",
    "eps_0 = 1.\n",
    "eps_decay = 0.995\n",
    "target_update = 5\n",
    "\n",
    "# Training parameters\n",
    "episodes = 750\n",
    "time_steps = 6\n",
    "opt1 = (-10.9443, 127) \n",
    "opt2 = (-11.6569, 83)\n",
    "best_ref2 = np.array([*opt2, 288]) \n",
    "n_agents, jobs = 15, 15 # Parallel trainings and cores"
   ]
  },
  {
   "cell_type": "markdown",
   "metadata": {
    "Collapsed": "false"
   },
   "source": [
    "### Solve the first problem\n",
    "\n",
    "Let us define the `DQNTrainer` and train an agent to find the optimal solution to the first problem."
   ]
  },
  {
   "cell_type": "code",
   "execution_count": 17,
   "metadata": {
    "Collapsed": "false"
   },
   "outputs": [],
   "source": [
    "dqn = DQNTrainer(N, H1, profile, n_agents=n_agents, n_jobs=jobs,\n",
    "                learning_rate=learning_rate, batch_size=batch_size, eps_decay=eps_decay, eps_0=eps_0, target_update=target_update)"
   ]
  },
  {
   "cell_type": "code",
   "execution_count": 18,
   "metadata": {
    "Collapsed": "false"
   },
   "outputs": [
    {
     "name": "stdout",
     "output_type": "stream",
     "text": [
      "CPU times: user 27.4 s, sys: 94.8 ms, total: 27.5 s\n",
      "Wall time: 1min 49s\n"
     ]
    }
   ],
   "source": [
    "%time results1 = dqn.train(episodes, time_steps=time_steps, opt=opt1)"
   ]
  },
  {
   "cell_type": "code",
   "execution_count": null,
   "metadata": {
    "Collapsed": "false"
   },
   "outputs": [],
   "source": [
    "train_results1 = results1[\"training\"]\n",
    "plot_trainings(train_results1)"
   ]
  },
  {
   "cell_type": "markdown",
   "metadata": {
    "Collapsed": "false"
   },
   "source": [
    "### Change problem\n",
    "\n",
    "For transfer learning, we will have to change the environment and reset some of the agent attributes, such as the epsilon for exploration. \n",
    "\n",
    "We will have to use the methods `DQNTrainer.change_environment` and `DQNTrainer.set_agent_attrs` taking care that the agent's memory needs to be explicitly reset providing an empty deque. "
   ]
  },
  {
   "cell_type": "code",
   "execution_count": 30,
   "metadata": {
    "Collapsed": "false"
   },
   "outputs": [],
   "source": [
    "dqn.change_environment(H2) # Change environment hamiltonian"
   ]
  },
  {
   "cell_type": "code",
   "execution_count": 31,
   "metadata": {
    "Collapsed": "false"
   },
   "outputs": [],
   "source": [
    "dqn.set_agent_attrs(epsilon=eps_0, memory=deque(maxlen=10000)) # Reset epsilon and memory"
   ]
  },
  {
   "cell_type": "code",
   "execution_count": 32,
   "metadata": {
    "Collapsed": "false"
   },
   "outputs": [
    {
     "name": "stdout",
     "output_type": "stream",
     "text": [
      "CPU times: user 31.8 s, sys: 937 ms, total: 32.7 s\n",
      "Wall time: 1min 57s\n"
     ]
    }
   ],
   "source": [
    "%time tl_results = dqn.train(episodes, time_steps=time_steps, opt=opt2, best_ref=best_ref2, save=False)"
   ]
  },
  {
   "cell_type": "code",
   "execution_count": null,
   "metadata": {
    "Collapsed": "false"
   },
   "outputs": [],
   "source": [
    "train_tl_results = tl_results[\"training\"]\n",
    "plot_trainings(train_tl_results)"
   ]
  },
  {
   "cell_type": "markdown",
   "metadata": {
    "Collapsed": "false"
   },
   "source": [
    "## Compare against solving from scratch\n",
    "\n",
    "In order to see whether we obtain any kind of advantage with transfer learing, we need to compare the result with respect to a training without any prior knowledge."
   ]
  },
  {
   "cell_type": "code",
   "execution_count": 43,
   "metadata": {
    "Collapsed": "false"
   },
   "outputs": [],
   "source": [
    "base_dqn = DQNTrainer(N, H2, profile, n_agents=n_agents, n_jobs=jobs,\n",
    "                      learning_rate=learning_rate, batch_size=batch_size, eps_decay=eps_decay, eps_0=eps_0, target_update=target_update)"
   ]
  },
  {
   "cell_type": "code",
   "execution_count": null,
   "metadata": {
    "Collapsed": "false"
   },
   "outputs": [],
   "source": [
    "%time base_results = base_dqn.train(episodes, time_steps=time_steps, opt=opt2, best_ref=best_ref2, save=False)"
   ]
  },
  {
   "cell_type": "code",
   "execution_count": null,
   "metadata": {
    "Collapsed": "false"
   },
   "outputs": [],
   "source": [
    "train_base_results = base_results['training'] \n",
    "plot_trainings(train_base_results)"
   ]
  },
  {
   "cell_type": "markdown",
   "metadata": {
    "Collapsed": "false"
   },
   "source": [
    "With transfer learning, we observe a significant advantage in three aspects: \n",
    "* Jumpstart advantage: at the beginning of the training, the rewards obtained with transfer learning are, on average, higher than the ones obtained without introducing prior knowledge. \n",
    "* Asymptotic advantage: by the end of the training, on average, more agents reach higher rewards and more optimal states with transfer learning. \n",
    "* Convergence advantage: with transfer learning, the convergence is much faster. Agents converge with about half the learning episodes.  \n",
    "\n",
    "Overall, the total accumulated reward during training is higher with transfer learning as a result of a faster and better convergence to the optimal policy. \n",
    "\n",
    "For this whole comparison, it is important to look at the reached optimal states (red line), provided that the rewards depend on the agent's exploration. Nonetheless, they can provide an intuition of how the learning is going: better rewards imply that the agent goes towards the best it has seen. \n",
    "\n",
    "Let us have a look now at the differences in state-space exploration with and without transfer learning. "
   ]
  },
  {
   "cell_type": "code",
   "execution_count": null,
   "metadata": {
    "Collapsed": "false"
   },
   "outputs": [],
   "source": [
    "base_expl = base_results['exploration']\n",
    "base_rewards = arrange_shape(base_expl['oracle_rewards'])\n",
    "tl_expl = tl_results[\"exploration\"]\n",
    "tl_rewards = arrange_shape(tl_expl['oracle_rewards'])\n",
    "\n",
    "plt.figure(figsize=(10, 4))\n",
    "plt.plot(np.mean(best_so_far(base_rewards), axis=0), linewidth=2, label=\"base\")\n",
    "plt.plot(np.mean(best_so_far(tl_rewards), axis=0), linewidth=2, label=\"TL\")\n",
    "plt.grid()\n",
    "plt.legend(fontsize=16)\n",
    "plt.tick_params(labelsize=16)\n",
    "plt.xlabel(\"New SDP query\", fontsize=20)\n",
    "plt.ylabel(\"Best reward\", fontsize=20);"
   ]
  },
  {
   "cell_type": "code",
   "execution_count": null,
   "metadata": {
    "Collapsed": "false"
   },
   "outputs": [],
   "source": [
    "base_expl = base_results['exploration']\n",
    "base_rewards = arrange_shape(base_expl['oracle_rewards'])\n",
    "tl_expl = tl_results[\"exploration\"]\n",
    "tl_rewards = arrange_shape(tl_expl['oracle_rewards'])\n",
    "\n",
    "plt.figure(figsize=(10, 4))\n",
    "plt.plot(np.mean(best_so_far(base_rewards), axis=0), linewidth=2, label=\"base\")\n",
    "plt.plot(np.mean(best_so_far(tl_rewards), axis=0), linewidth=2, label=\"TL\")\n",
    "plt.grid()\n",
    "plt.legend(fontsize=16)\n",
    "plt.tick_params(labelsize=16)\n",
    "plt.xlabel(\"New SDP query\", fontsize=20)\n",
    "plt.ylabel(\"Best reward\", fontsize=20);"
   ]
  },
  {
   "cell_type": "markdown",
   "metadata": {
    "Collapsed": "false"
   },
   "source": [
    "Transfer learning shows an exploration advantage, provided that, initially, the agent has an intuition of what will be the configurations leading to better rewards. "
   ]
  },
  {
   "cell_type": "markdown",
   "metadata": {
    "Collapsed": "false"
   },
   "source": [
    "## Transfer learning from saved models\n",
    "\n",
    "In case we have previously trained some agents and we have stored their models, we can skip the initial training part on the similar problem and go straight to solving the second problem. This method comes particulary handy when dealing with long trainings. \n",
    "\n",
    "In this case, we can load the models trained to solve `H1`. We use the function `load_model` which outpus a dictionary containing both the acutal pytorch model and the mdoel's state_dict. The quantities can be accessed with the keys `'model'` and `'state_dict'`. "
   ]
  },
  {
   "cell_type": "code",
   "execution_count": null,
   "metadata": {
    "Collapsed": "false"
   },
   "outputs": [],
   "source": [
    "pre_trained_models = [load_model(H1, max_limit, ID)['model'] for ID in range(n_agents)]\n",
    "print(len(pre_trained_models))\n",
    "print(pre_trained_models[0])"
   ]
  },
  {
   "cell_type": "markdown",
   "metadata": {
    "Collapsed": "false"
   },
   "source": [
    "Let's now create the `DQNTrainer` to solve the second problem `H2` with the pre-trained models. Whenever we input a collection of models, `n_agents` is automatically adjusted but we still need to choose the amount of parallel threads. "
   ]
  },
  {
   "cell_type": "code",
   "execution_count": null,
   "metadata": {
    "Collapsed": "false"
   },
   "outputs": [],
   "source": [
    "dqn_from_models = DQNTrainer(N, H2, profile, models=pre_trained_models, n_jobs=len(pre_trained_models),\n",
    "                             eps_0=0.9)"
   ]
  },
  {
   "cell_type": "code",
   "execution_count": null,
   "metadata": {
    "Collapsed": "false"
   },
   "outputs": [],
   "source": [
    "%time results_from_models = dqn_from_models.train(episodes, time_steps=time_steps, opt=opt2, save=False)"
   ]
  },
  {
   "cell_type": "code",
   "execution_count": null,
   "metadata": {
    "Collapsed": "false"
   },
   "outputs": [],
   "source": [
    "train_results_models = results_from_models['training'] \n",
    "plot_trainings(train_results_models)"
   ]
  },
  {
   "cell_type": "markdown",
   "metadata": {
    "Collapsed": "false"
   },
   "source": [
    "## Transfer learning between phases\n",
    "\n",
    "In the Heisenberg XX model we find two phases with very different optimal configurations. Here, we perform transfer learning from deep into one phase of the Hamiltonian to many other points across the phase space. We observe that, provided that the optimal set of constraints is the same within the unentangled phase of the Hamiltonian $B/J\\geq2$, the transfer learning is trivial, while the convergence advantage diminishes sharply across different phases.\n",
    "\n",
    "We start by defining the source task `H0` in which we will train our models for the first time. Then we define the tasks to which we will perform transfer learning `Hs`. "
   ]
  },
  {
   "cell_type": "code",
   "execution_count": 17,
   "metadata": {
    "Collapsed": "false"
   },
   "outputs": [],
   "source": [
    "N = 6\n",
    "\n",
    "# Initial Hamiltonian\n",
    "B0, J0 = [5]*N, [1]*N\n",
    "H0 = XXHamiltonian(N, np.array(B0), np.array(J0))\n",
    "\n",
    "# Hamiltonians to transfer\n",
    "Bs = [np.round(0.1*k, 2)*np.ones(N) for k in range(20)] + [np.round(2+0.5*k, 2)*np.ones(N) for k in range(5)]\n",
    "Hs = [XXHamiltonian(N, b, J0) for b in Bs]\n",
    "\n",
    "#Computational budget\n",
    "max_limit = 185\n",
    "profile = FlatProfile(max_limit)"
   ]
  },
  {
   "cell_type": "markdown",
   "metadata": {
    "Collapsed": "false"
   },
   "source": [
    "Now we set our agent parameters and train it on the source task. The saved agents will be used as starting point for the other tasks."
   ]
  },
  {
   "cell_type": "code",
   "execution_count": null,
   "metadata": {
    "Collapsed": "false"
   },
   "outputs": [],
   "source": [
    "# Agent parameters\n",
    "learning_rate = 5e-3\n",
    "batch_size = 150\n",
    "eps_decay = 0.996\n",
    "target_update = 5\n",
    "\n",
    "episodes = 800\n",
    "time_steps = 7\n",
    "n_agents, n_jobs = 60, 15 "
   ]
  },
  {
   "cell_type": "markdown",
   "metadata": {
    "Collapsed": "false"
   },
   "source": [
    "Remember to only train the source agents once!"
   ]
  },
  {
   "cell_type": "code",
   "execution_count": null,
   "metadata": {
    "Collapsed": "false"
   },
   "outputs": [],
   "source": [
    "dqn = DQNTrainer(N, H0, profile, n_agents=n_agents, n_jobs=n_jobs,\n",
    "                 learning_rate=learning_rate, batch_size=batch_size, eps_decay=eps_decay, target_update=target_update)"
   ]
  },
  {
   "cell_type": "code",
   "execution_count": null,
   "metadata": {
    "Collapsed": "false"
   },
   "outputs": [],
   "source": [
    "%time results = dqn.train(episodes, time_steps=time_steps, ckp=10)"
   ]
  },
  {
   "cell_type": "code",
   "execution_count": null,
   "metadata": {
    "Collapsed": "false"
   },
   "outputs": [
    {
     "data": {
      "image/png": "[encoded data removed]",
      "text/plain": [
       "<Figure size 720x360 with 2 Axes>"
      ]
     },
     "metadata": {},
     "output_type": "display_data"
    }
   ],
   "source": [
    "plot_trainings(results['training'])"
   ]
  },
  {
   "cell_type": "code",
   "execution_count": null,
   "metadata": {
    "Collapsed": "false"
   },
   "outputs": [],
   "source": [
    "from bounce.utils import convergence_time, get_indiv_times"
   ]
  },
  {
   "cell_type": "code",
   "execution_count": null,
   "metadata": {
    "Collapsed": "false"
   },
   "outputs": [
    {
     "data": {
      "application/vnd.jupyter.widget-view+json": {
       "model_id": "03fb613ba2ee49fb8b1bb591a01ae5f0",
       "version_major": 2,
       "version_minor": 0
      },
      "text/plain": [
       "HBox(children=(FloatProgress(value=0.0, max=126.0), HTML(value='')))"
      ]
     },
     "metadata": {},
     "output_type": "display_data"
    }
   ],
   "source": [
    "TL_evaluation = {B[0]: dict.fromkeys(['tl', 'vanilla', 'time_ratio']) for B in Bs}\n",
    "for H in tqdm(Hs):\n",
    "    B = H.linear[0]\n",
    "    pre_trained_models = [load_model(H0, max_limit, ID)['model'] for ID in range(n_agents, 2*n_agents)]\n",
    "    \n",
    "    dqn_cold_start = DQNTrainer(N, H, profile, n_agents=len(pre_trained_models), n_jobs=n_jobs, \n",
    "                                learning_rate=learning_rate, batch_size=batch_size, eps_decay=eps_decay, target_update=target_update)\n",
    "    results = dqn_cold_start.train(episodes, time_steps=time_steps)\n",
    "    time = convergence_time(results)\n",
    "    TL_evaluation[B]['vanilla'] = deepcopy(results['training'])\n",
    "    del dqn_cold_start; del results\n",
    "    \n",
    "    dqn_from_models = DQNTrainer(N, H, profile, models=pre_trained_models, n_jobs=n_jobs, \n",
    "                                 learning_rate=learning_rate, batch_size=batch_size, eps_0=eps_0, eps_decay=eps_decay, target_update=target_update)\n",
    "    results_tl = dqn_from_models.train(episodes, time_steps=time_steps, save=False)\n",
    "    time_tl = convergence_time(results_tl)\n",
    "    TL_evaluation[B]['tl'] = deepcopy(results_tl['training'])\n",
    "    del dqn_from_models; del results_tl\n",
    "    \n",
    "    time = convergence_time(TL_evaluation[B]['vanilla'])\n",
    "    TL_evaluation[B]['time_ratio'] = time_tl/time"
   ]
  },
  {
   "cell_type": "code",
   "execution_count": null,
   "metadata": {
    "Collapsed": "false"
   },
   "outputs": [],
   "source": [
    "path = Path(f\"../benchmarks/TL_{H0.model}_N{N}_{max_limit}_{n_agents}_from_B{B0[0]}.pkl\")\n",
    "Path.mkdir(path.parent, exist_ok=True)\n",
    "with open(path, 'wb') as f:\n",
    "    pickle.dump(TL_evaluation, f, protocol=pickle.HIGHEST_PROTOCOL)"
   ]
  },
  {
   "cell_type": "code",
   "execution_count": null,
   "metadata": {
    "Collapsed": "false"
   },
   "outputs": [
    {
     "data": {
      "image/png": "[encoded data removed]",
      "text/plain": [
       "<Figure size 720x360 with 1 Axes>"
      ]
     },
     "metadata": {
      "needs_background": "light"
     },
     "output_type": "display_data"
    }
   ],
   "source": [
    "Bs, time_ratios, time_errs = get_indiv_times(TL_evaluation)\n",
    "\n",
    "plt.figure(figsize=(10, 5))\n",
    "plt.fill_between(Bs, time_ratios-time_errs, time_ratios+time_errs, alpha=0.25)\n",
    "plt.plot(Bs, time_ratios, 's-', ms=7)\n",
    "plt.grid()\n",
    "plt.tick_params(labelsize=16)\n",
    "plt.xlabel(\"B/J\", fontsize=20)\n",
    "plt.ylabel(r\"Time ratio $t_{TL}/t_0$\", fontsize=20);"
   ]
  }
 ],
 "metadata": {
  "kernelspec": {
   "display_name": "Python 3",
   "language": "python",
   "name": "python3"
  },
  "language_info": {
   "codemirror_mode": {
    "name": "ipython",
    "version": 3
   },
   "file_extension": ".py",
   "mimetype": "text/x-python",
   "name": "python",
   "nbconvert_exporter": "python",
   "pygments_lexer": "ipython3",
   "version": "3.7.6"
  }
 },
 "nbformat": 4,
 "nbformat_minor": 4
}
